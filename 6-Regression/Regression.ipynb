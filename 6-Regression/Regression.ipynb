{
 "cells": [
  {
   "cell_type": "code",
   "execution_count": 1,
   "metadata": {},
   "outputs": [],
   "source": [
    "import numpy as np\n",
    "import scipy.io as sio\n",
    "import csv"
   ]
  },
  {
   "cell_type": "markdown",
   "metadata": {},
   "source": [
    "* DropBox에 올려둔 f_latent.npy와 m_latent.npy를 다운 받아서 아래처럼 경로에 넣어주세요"
   ]
  },
  {
   "cell_type": "code",
   "execution_count": 102,
   "metadata": {},
   "outputs": [],
   "source": [
    "def return_latent_arr(csvFile, matfile):\n",
    "\n",
    "    # Latent info for each image\n",
    "    f_latent = np.load('latent_space_value/f_latent.npy', allow_pickle=True)\n",
    "    m_latent = np.load('latent_space_value/m_latent.npy', allow_pickle=True)\n",
    "    \n",
    "\n",
    "    # Image for experiment\n",
    "    imgCSV = open(csvFile, 'r')\n",
    "    imgCSV = csv.reader(imgCSV)\n",
    "    imgList = [name for name in imgCSV]\n",
    "    \n",
    "    theseLatent=[]\n",
    "    for idx in range(len(imgList)):\n",
    "        img_info = imgList[idx][0].split('/')[-2]\n",
    "        img_name = imgList[idx][0].split('/')[-1]\n",
    "\n",
    "\n",
    "        if img_info == 'female':\n",
    "            latent = f_latent\n",
    "        else: latent = m_latent\n",
    "\n",
    "        thisLatent = latent[latent[:,0]==img_name][0][1][0]\n",
    "        theseLatent.append(thisLatent)\n",
    "   \n",
    "\n",
    "    # Activation pattern from experiment      \n",
    "    activMat = sio.loadmat(matfile)\n",
    "    activArr = activMat['tstat_masked_pat']\n",
    "    \n",
    "    theseActiv=[]\n",
    "    for idx in range(len(activArr[0])):\n",
    "\n",
    "\n",
    "        thisActiv = activArr[:,idx]\n",
    "        theseActiv.append(thisActiv)\n",
    "        \n",
    "    return np.array(theseLatent), np.array(theseActiv)\n",
    "    "
   ]
  },
  {
   "cell_type": "code",
   "execution_count": 103,
   "metadata": {},
   "outputs": [
    {
     "data": {
      "text/plain": [
       "((10, 100), (100, 17690))"
      ]
     },
     "execution_count": 103,
     "metadata": {},
     "output_type": "execute_result"
    }
   ],
   "source": [
    "lat, act = return_latent_arr('temp/imgList_test_run1.csv', 'temp/tstat_masked_pat_test_run1.mat')\n",
    "lat.shape, act.shape"
   ]
  },
  {
   "cell_type": "markdown",
   "metadata": {},
   "source": [
    "* csv file의 이미지 개수는 열개인데 같은 이름 mat file의 이미지 개수는 100개로 되어있네요\n",
    "* return_latent_arr 함수를 사용해서 모든파일 마다 latent 랑 act 값을 각각 뽑고 다 합쳐주세요\n",
    "* 그 후에 아래처럼 regression 수행하면 됩니다.  "
   ]
  },
  {
   "cell_type": "code",
   "execution_count": 120,
   "metadata": {},
   "outputs": [
    {
     "name": "stdout",
     "output_type": "stream",
     "text": [
      "(10, 17690) (10, 100)\n"
     ]
    },
    {
     "data": {
      "text/plain": [
       "LinearRegression(copy_X=True, fit_intercept=True, n_jobs=None, normalize=False)"
      ]
     },
     "execution_count": 120,
     "metadata": {},
     "output_type": "execute_result"
    }
   ],
   "source": [
    "from sklearn.linear_model import LinearRegression\n",
    "\n",
    "x , y = act[:10], lat\n",
    "print(x.shape, y.shape)\n",
    "line_fitter = LinearRegression()\n",
    "line_fitter.fit(x, y)"
   ]
  },
  {
   "cell_type": "code",
   "execution_count": 121,
   "metadata": {},
   "outputs": [
    {
     "data": {
      "text/plain": [
       "(100, 17690)"
      ]
     },
     "execution_count": 121,
     "metadata": {},
     "output_type": "execute_result"
    }
   ],
   "source": [
    "W = line_fitter.coef_\n",
    "W.shape"
   ]
  }
 ],
 "metadata": {
  "kernelspec": {
   "display_name": "Python 3",
   "language": "python",
   "name": "python3"
  },
  "language_info": {
   "codemirror_mode": {
    "name": "ipython",
    "version": 3
   },
   "file_extension": ".py",
   "mimetype": "text/x-python",
   "name": "python",
   "nbconvert_exporter": "python",
   "pygments_lexer": "ipython3",
   "version": "3.7.4"
  }
 },
 "nbformat": 4,
 "nbformat_minor": 4
}
