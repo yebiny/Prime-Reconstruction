{
 "cells": [
  {
   "cell_type": "markdown",
   "metadata": {},
   "source": [
    "# get data"
   ]
  },
  {
   "cell_type": "code",
   "execution_count": 7,
   "metadata": {},
   "outputs": [],
   "source": [
    "import sys\n",
    "sys.path.append('scripts')\n",
    "from data_generator import *\n",
    "from regression_yb import *"
   ]
  },
  {
   "cell_type": "code",
   "execution_count": 280,
   "metadata": {},
   "outputs": [],
   "source": [
    "RESULTS='/Volumes/BPlus/primeRec/results/'\n",
    "DATA = '/Volumes/BPlus/primeRec/data/'"
   ]
  },
  {
   "cell_type": "code",
   "execution_count": 282,
   "metadata": {},
   "outputs": [
    {
     "name": "stdout",
     "output_type": "stream",
     "text": [
      "(17540,) (17540,)\n",
      "* sub02 : 9188 8349\n",
      "(24452,) (24452,)\n",
      "* sub19 : 4757 19692\n",
      "(20198,) (20198,)\n",
      "* sub21 : 419 19779\n",
      "(27347,) (27347,)\n",
      "* sub22 : 2769 24578\n",
      "(21395,) (21395,)\n",
      "* sub23 : 4366 17028\n",
      "(23717,) (23717,)\n",
      "* sub24 : 2262 21455\n"
     ]
    }
   ],
   "source": [
    "for SUBJ in ['sub02', 'sub19', 'sub21', 'sub22', 'sub23', 'sub24']:\n",
    "\n",
    "    dg = DataGenerator(SUBJ, RESULTS, DATA)\n",
    "    #info_list = dg.get_info_list()\n",
    "    #lat_arr = dg.get_latent(info_list)\n",
    "    #voxel_arr = dg.get_voxel(info_list)\n",
    "\n",
    "    mask_enh, mask_sup = dg.get_sup_enh_mask( '%s/enhance_maskCut1_bin.nii.gz'%dg.mask_dir \n",
    "                                            , '%s/sup_maskCut1_bin.nii.gz'%dg.mask_dir)\n",
    "    \n",
    "    print(mask_enh.shape, mask_sup.shape)\n",
    "    np.save('%s/%s/regression/enh_mask'%(RESULTS,SUBJ), mask_enh)\n",
    "    np.save('%s/%s/regression/sup_mask'%(RESULTS,SUBJ), mask_sup)\n",
    "    print('* %s :'%SUBJ, len(mask_enh[mask_enh==1]), len(mask_sup[mask_sup==1]))\n"
   ]
  },
  {
   "cell_type": "code",
   "execution_count": 80,
   "metadata": {},
   "outputs": [
    {
     "name": "stdout",
     "output_type": "stream",
     "text": [
      "4757 19692\n"
     ]
    }
   ],
   "source": [
    "# SAVE\n",
    "save_dir = '%s/%s/regression'%(RESULTS, SUBJ)    \n",
    "# x all\n",
    "x = dg.get_masked_voxel(voxel_arr)    \n",
    "np.save('%s/x_mask'%save_dir, x)\n",
    "# x enhance\n",
    "x[:, mask_enh==0]=0\n",
    "np.save('%s/x_enh'%save_dir, x)\n",
    "# x suppression\n",
    "x = dg.get_masked_voxel(voxel_arr)\n",
    "x[:, mask_sup==0]=0\n",
    "np.save('%s/x_sup'%save_dir, x)\n",
    "# y\n",
    "np.save('%s/y_arr'%save_dir, lat_arr)"
   ]
  }
 ],
 "metadata": {
  "kernelspec": {
   "display_name": "Python 3",
   "language": "python",
   "name": "python3"
  },
  "language_info": {
   "codemirror_mode": {
    "name": "ipython",
    "version": 3
   },
   "file_extension": ".py",
   "mimetype": "text/x-python",
   "name": "python",
   "nbconvert_exporter": "python",
   "pygments_lexer": "ipython3",
   "version": "3.7.4"
  },
  "toc": {
   "base_numbering": 1,
   "nav_menu": {},
   "number_sections": true,
   "sideBar": true,
   "skip_h1_title": false,
   "title_cell": "Table of Contents",
   "title_sidebar": "Contents",
   "toc_cell": false,
   "toc_position": {},
   "toc_section_display": true,
   "toc_window_display": false
  }
 },
 "nbformat": 4,
 "nbformat_minor": 4
}
