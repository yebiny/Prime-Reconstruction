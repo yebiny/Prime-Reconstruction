{
 "cells": [
  {
   "cell_type": "markdown",
   "metadata": {},
   "source": [
    "# get data"
   ]
  },
  {
   "cell_type": "code",
   "execution_count": 2,
   "metadata": {},
   "outputs": [],
   "source": [
    "import sys\n",
    "sys.path.append('scripts')\n",
    "from data_generator import *\n",
    "from regression_yb import *"
   ]
  },
  {
   "cell_type": "code",
   "execution_count": 3,
   "metadata": {},
   "outputs": [],
   "source": [
    "RESULTS='/Volumes/BPlus/primeRec/results/'\n",
    "DATA = '/Volumes/BPlus/primeRec/data/'"
   ]
  },
  {
   "cell_type": "code",
   "execution_count": 84,
   "metadata": {},
   "outputs": [
    {
     "name": "stdout",
     "output_type": "stream",
     "text": [
      "* sub02 : 9188 8349\n",
      "* sub19 : 4757 19692\n",
      "* sub21 : 419 19779\n",
      "* sub22 : 2769 24578\n",
      "* sub23 : 4366 17028\n",
      "* sub24 : 2262 21455\n"
     ]
    }
   ],
   "source": [
    "for SUBJ in ['sub02', 'sub19', 'sub21', 'sub22', 'sub23', 'sub24']:\n",
    "\n",
    "    dg = DataGenerator(SUBJ, RESULTS, DATA)\n",
    "    #info_list = dg.get_info_list()\n",
    "    #lat_arr = dg.get_latent(info_list)\n",
    "    #voxel_arr = dg.get_voxel(info_list)\n",
    "\n",
    "    mask_enh, mask_sup = dg.get_sup_enh_mask( '%s/enhance_maskCut1_bin.nii.gz'%dg.mask_dir \n",
    "                                            , '%s/sup_maskCut1_bin.nii.gz'%dg.mask_dir)\n",
    "    \n",
    "    print('* %s :'%SUBJ, len(mask_enh[mask_enh==1]), len(mask_sup[mask_sup==1]))\n"
   ]
  },
  {
   "cell_type": "code",
   "execution_count": 80,
   "metadata": {},
   "outputs": [
    {
     "name": "stdout",
     "output_type": "stream",
     "text": [
      "4757 19692\n"
     ]
    }
   ],
   "source": [
    "    # SAVE\n",
    "    save_dir = '%s/%s/regression'%(RESULTS, SUBJ)    \n",
    "    # x all\n",
    "    x = dg.get_masked_voxel(voxel_arr)    \n",
    "    np.save('%s/x_mask'%save_dir, x)\n",
    "    # x enhance\n",
    "    x[:, mask_enh==0]=0\n",
    "    np.save('%s/x_enh'%save_dir, x)\n",
    "    # x suppression\n",
    "    x = dg.get_masked_voxel(voxel_arr)\n",
    "    x[:, mask_sup==0]=0\n",
    "    np.save('%s/x_sup'%save_dir, x)\n",
    "    # y\n",
    "    np.save('%s/y_arr'%save_dir, lat_arr)"
   ]
  },
  {
   "cell_type": "code",
   "execution_count": 117,
   "metadata": {},
   "outputs": [
    {
     "data": {
      "text/plain": [
       "(1000, 17540)"
      ]
     },
     "execution_count": 117,
     "metadata": {},
     "output_type": "execute_result"
    }
   ],
   "source": [
    "x_sup.shape"
   ]
  },
  {
   "cell_type": "markdown",
   "metadata": {},
   "source": [
    "# Start regression and get Corr"
   ]
  },
  {
   "cell_type": "code",
   "execution_count": 119,
   "metadata": {},
   "outputs": [
    {
     "name": "stdout",
     "output_type": "stream",
     "text": [
      "sub02 (1000, 17540) (1000, 100) (1000, 17540) (1000, 17540)\n",
      "* Start regression : all\n",
      "0.1871607667985445 0.15205739380074326\n",
      "0.2056761857135844 0.15958325132077264\n",
      "0.2309484086064575 0.18081680360512906\n",
      "0.1800697743812806 0.15835770327686624\n",
      "0.15989728061125835 0.14561444094727666\n",
      "0.21344214069783515 0.1903536759692428\n",
      "0.21375614103837162 0.17920020654197297\n",
      "0.18341719044107038 0.14898396291288252\n",
      "0.19395665235252896 0.1652407484306911\n",
      "0.20381520437588616 0.15986098726365328\n",
      "* Start regression : suppression\n",
      "0.14924152286419642 0.12594277062171957\n",
      "0.17761010366828278 0.12028956532801144\n",
      "0.17507347937892767 0.1412749866569043\n",
      "0.15375661119153783 0.13394183910333582\n",
      "0.13305056455103667 0.11357881992906214\n",
      "0.19701864002492647 0.15604268448988748\n",
      "0.18500031930370134 0.15161393039868284\n",
      "0.1504337905815138 0.11057533937075413\n",
      "0.17052976439950515 0.1300938561517705\n",
      "0.16744868094644608 0.13521976899588697\n",
      "* Start regression : enhancment\n",
      "0.14039942283308368 0.1208616520825162\n",
      "0.1446494972475854 0.13079107979461943\n",
      "0.18675750679253045 0.15045963431386117\n",
      "0.14965555511201706 0.1281484416659331\n",
      "0.12262310827294311 0.11545704696344049\n",
      "0.14389110833335533 0.15015456584274436\n",
      "0.15472006920117368 0.14424900640444777\n",
      "0.13373665861978684 0.12984190275555269\n",
      "0.14003019383401977 0.13914093453393012\n",
      "0.13863576367123503 0.12656654595165723\n",
      "sub19 (1000, 24452) (1000, 100) (1000, 24452) (1000, 24452)\n",
      "* Start regression : all\n",
      "0.2451471354582144 0.18473068786732647\n",
      "0.22291207843188066 0.18295813496691143\n",
      "0.20391077584634387 0.1740821463219225\n",
      "0.20479170706474373 0.16440069125794074\n",
      "0.21654354693929728 0.18767342027460804\n",
      "0.21199406251401623 0.1822509165158312\n",
      "0.21497325506692935 0.1853725366278745\n",
      "0.17228619531987946 0.1615730647795519\n",
      "0.20934973799460885 0.19397601610477663\n",
      "0.2413833937474849 0.1870295891430919\n",
      "* Start regression : suppression\n",
      "0.22871042374698103 0.17497797200544898\n",
      "0.21150946657818256 0.17786498757116734\n",
      "0.19007508030123657 0.16601349403787696\n",
      "0.1904858512354485 0.1575867209750866\n",
      "0.2029417547129485 0.17861653010116682\n",
      "0.2006950140810004 0.1720890191019574\n",
      "0.20439805175452425 0.17745859302328876\n",
      "0.1681885674200564 0.15569327997170732\n",
      "0.20627061034615438 0.18917847245318126\n",
      "0.22557306329455323 0.17603108912195814\n",
      "* Start regression : enhancment\n",
      "0.1437559570437562 0.10981888719001674\n",
      "0.12855847942018303 0.10110493339746653\n",
      "0.10838126624746401 0.0994723993682686\n",
      "0.11935959283888811 0.09701467693334086\n",
      "0.12433644502019357 0.10744158968758576\n",
      "0.11234307915947155 0.10478352472322437\n",
      "0.13562245722716892 0.1096711407896681\n",
      "0.10966651816808022 0.09838517315143483\n",
      "0.11767303838617513 0.09889417000402502\n",
      "0.1508257226137625 0.1083280970836394\n",
      "sub21 (1000, 20198) (1000, 100) (1000, 20198) (1000, 20198)\n",
      "* Start regression : all\n",
      "0.24677335013995158 0.20243538019141624\n",
      "0.1904589239511496 0.15934156567803595\n",
      "0.2082733134853766 0.19300538878957013\n",
      "0.20680193800428587 0.17021743244514548\n",
      "0.20822471535115508 0.17374615527309195\n",
      "0.22352110670350864 0.18097707625662765\n",
      "0.16840334415023472 0.15260818982681446\n",
      "0.20463280520818233 0.183505679423554\n",
      "0.20161499930740662 0.16572306729666275\n",
      "0.22145315730176737 0.2024996864050678\n",
      "* Start regression : suppression\n",
      "0.24715010930142584 0.20238953670216273\n",
      "0.18775931285193817 0.1568565568811476\n",
      "0.20782956405553984 0.19098177909444222\n",
      "0.20663600797491177 0.1693119250083624\n",
      "0.2087258392419259 0.1739614495089691\n",
      "0.22411637674948331 0.18100888975907112\n",
      "0.16981738916978145 0.15436717929382124\n",
      "0.2020522089735418 0.1820404376105823\n",
      "0.20211598067346892 0.16599559505014533\n",
      "0.22432324401041773 0.20127653010572585\n",
      "* Start regression : enhancment\n",
      "0.1224207811478488 0.12103428193562234\n",
      "0.15097103295443975 0.13504544047981315\n",
      "0.1561729579008922 0.1387282535651991\n",
      "0.16131351101215707 0.16122518290850602\n",
      "0.16530183965953998 0.17094906935075846\n",
      "0.14837142438049114 0.13727825536206684\n",
      "0.11980290349354897 0.13696396795662721\n",
      "0.1684405123247943 0.14265872696387513\n",
      "0.13143694935779654 0.12927957711766644\n",
      "0.15130409627757282 0.14544933592604797\n",
      "sub22 (1000, 27347) (1000, 100) (1000, 27347) (1000, 27347)\n",
      "* Start regression : all\n",
      "0.19889642970291177 0.17658899321074392\n",
      "0.23064028271267464 0.18663994863283337\n",
      "0.2026919044457852 0.191080074006556\n",
      "0.22530791200022318 0.19994010290252953\n",
      "0.17450955886126768 0.1757699771301019\n",
      "0.20041546867664947 0.18866169505314984\n",
      "0.22975023025473948 0.20719153105035143\n",
      "0.2021562232632305 0.19613038578895034\n",
      "0.19524705335889553 0.17035312214062992\n",
      "0.20802686431357284 0.19968256546870275\n",
      "* Start regression : suppression\n",
      "0.19307084259567361 0.16987436271136003\n",
      "0.22224466060342724 0.18118858047720732\n",
      "0.20238553339576298 0.18876965108204574\n",
      "0.2229936939024384 0.1961323486723812\n",
      "0.17538549707682372 0.17135886443576812\n",
      "0.1996557165277322 0.18543550949822288\n",
      "0.2297582081050964 0.20216353736560766\n",
      "0.19852785948839696 0.190086481054757\n",
      "0.1935606424954214 0.16985074270571673\n",
      "0.2053570639588866 0.19443539379369057\n",
      "* Start regression : enhancment\n",
      "0.10236531196401218 0.08658173879215132\n",
      "0.13536103491195256 0.09253322226739964\n",
      "0.08850361189347451 0.08317684052072558\n",
      "0.07679095453338614 0.09335763706164128\n",
      "0.08621583183325854 0.0842078103459385\n",
      "0.07655494656118719 0.08850660649608211\n",
      "0.10965664693687081 0.10264623057566845\n",
      "0.0921737020836824 0.09850519537640837\n",
      "0.08744218408760393 0.08347360829862371\n",
      "0.08888022156877334 0.08880280178251318\n",
      "sub23 (1000, 21395) (1000, 100) (1000, 21395) (1000, 21395)\n",
      "* Start regression : all\n",
      "0.25032566591032734 0.17250031128545043\n",
      "0.24074908744167267 0.1779538414794357\n",
      "0.2318232113787796 0.1692300314597998\n",
      "0.26928879533423555 0.1978144924222298\n",
      "0.24938165572063084 0.1850253424459345\n",
      "0.23160803044879733 0.17710322624048966\n",
      "0.26029916989614393 0.16794782571261768\n",
      "0.21345859652239663 0.156805057258255\n",
      "0.24523123347340386 0.18409494237077084\n",
      "0.243130506583305 0.1705231876016818\n",
      "* Start regression : suppression\n",
      "0.24161041557280025 0.16248305261220058\n",
      "0.22315881030182044 0.16315936414519505\n",
      "0.21737487747452913 0.15870977992028623\n",
      "0.2699479022918024 0.19373196508100854\n",
      "0.23808750751067978 0.17283307079581886\n",
      "0.22170219396338336 0.16901687828556528\n",
      "0.2543234745664976 0.16476132024371318\n",
      "0.1975757927496578 0.1418782213781232\n",
      "0.2251029491163564 0.16823583353232932\n",
      "0.23166673294389406 0.16113293271803153\n",
      "* Start regression : enhancment\n",
      "0.15421095761950995 0.1127402984008246\n",
      "0.14548756183918196 0.11630367203455155\n",
      "0.11653087276959999 0.10144334920135768\n",
      "0.13219211890436797 0.11176652075561605\n",
      "0.1480968056414965 0.11796325812199877\n",
      "0.1035847172635499 0.09999001201998488\n",
      "0.12988331214626875 0.10241665800567987\n",
      "0.12054922140131896 0.10456376218829064\n",
      "0.13106891475119062 0.11432494456318175\n",
      "0.13560505853860483 0.09179894867283572\n",
      "sub24 (1000, 23717) (1000, 100) (1000, 23717) (1000, 23717)\n",
      "* Start regression : all\n",
      "0.2020010553094862 0.18789764184404664\n",
      "0.19690240975898923 0.17978640430506454\n",
      "0.20487443759447344 0.17020147896400437\n",
      "0.20497596061029824 0.16985753919357402\n",
      "0.20448269587061993 0.18182201622728594\n",
      "0.1850276302164123 0.16252846980892044\n",
      "0.20192824136937426 0.1905257387903996\n",
      "0.21901068861373857 0.18661472987437266\n",
      "0.20288936589876438 0.17215733570368724\n",
      "0.22811834589325997 0.19330447175327972\n",
      "* Start regression : suppression\n",
      "0.2024624131354094 0.18385533984417066\n",
      "0.19714015877097663 0.17776742247578967\n",
      "0.20485660467641353 0.16692752798206298\n",
      "0.20372738240782462 0.1671817463095009\n",
      "0.19973956583648333 0.17878454606319477\n",
      "0.1780356344620886 0.1586503670741948\n",
      "0.19745429824564925 0.187316404853933\n",
      "0.21493512225675418 0.1835169747225694\n",
      "0.19902673256202685 0.16531804395493366\n",
      "0.22483739460344815 0.18935257104180872\n",
      "* Start regression : enhancment\n",
      "0.08361360657386431 0.08264914695550289\n",
      "0.08404241009824193 0.08053064375896363\n",
      "0.07273638109877772 0.07534824708593506\n",
      "0.08205871698945742 0.07663163790105779\n",
      "0.06176998324860933 0.07858573607330605\n",
      "0.0837344403371649 0.06652914233900717\n",
      "0.08695380849110271 0.07762537648470033\n",
      "0.08423375144451355 0.08099058124326142\n",
      "0.09523640281687994 0.09281838672121671\n",
      "0.08284492769250568 0.06776811098921445\n"
     ]
    }
   ],
   "source": [
    "#dic={'self_withzero':[], 'other_withzero':[], 'self_withoutzero':[], 'other_withoutzero':[]}\n",
    "\n",
    "dic = { 'self_mask':[]\n",
    "      , 'other_mask': []\n",
    "      , 'self_sup':[]\n",
    "      , 'other_sup':[]\n",
    "      , 'self_enh':[]\n",
    "      , 'other_enh':[]\n",
    "      }\n",
    "\n",
    "for SUBJ in ['sub02', 'sub19', 'sub21', 'sub22', 'sub23','sub24']:\n",
    "    load_path = '%s/%s/regression'%(RESULTS, SUBJ)\n",
    "    x = np.load('%s/x_mask.npy'%load_path)\n",
    "    y = np.load('%s/y_arr.npy'%load_path)\n",
    "    x_sup = np.load('%s/x_sup.npy'%load_path)\n",
    "    x_enh = np.load('%s/x_enh.npy'%load_path)\n",
    "    print(SUBJ, x.shape, y.shape, x_sup.shape, x_enh.shape)\n",
    "\n",
    "\n",
    "    print('* Start regression : all')\n",
    "    corr, self_mask, other_mask = regression_get_corr(x,y)\n",
    "    print('* Start regression : suppression')\n",
    "    corr, self_sup, other_sup = regression_get_corr(x_sup,y)\n",
    "    print('* Start regression : enhancment')\n",
    "    corr, self_enh, other_enh = regression_get_corr(x_enh,y)\n",
    "\n",
    "    dic['self_mask'].append(np.mean(self_mask))\n",
    "    dic['other_mask'].append(np.mean(other_mask))\n",
    "    dic['self_sup'].append(np.mean(self_sup))\n",
    "    dic['other_sup'].append(np.mean(other_sup))\n",
    "    dic['self_enh'].append(np.mean(self_enh))\n",
    "    dic['other_enh'].append(np.mean(other_enh))"
   ]
  },
  {
   "cell_type": "code",
   "execution_count": 215,
   "metadata": {},
   "outputs": [
    {
     "name": "stdout",
     "output_type": "stream",
     "text": [
      "other_mask 0.21247896664063826 0.17789847466068168\n",
      "other_sup 0.20257071791636247 0.1681030405542412\n",
      "other_enh 0.12099226440987275 0.1090629603206199\n"
     ]
    },
    {
     "data": {
      "image/png": "[encoded data removed]",
      "text/plain": [
       "<Figure size 720x360 with 1 Axes>"
      ]
     },
     "metadata": {
      "needs_background": "light"
     },
     "output_type": "display_data"
    }
   ],
   "source": [
    "plt.figure(figsize=(10,5))\n",
    "tmp_mean=0\n",
    "c_list=['g','g', 'b','b','r','r']\n",
    "for keyi, key in enumerate(dic.keys()):\n",
    "    for i in range(6):\n",
    "        plt.plot(key, dic[key][i], marker='.')\n",
    "    \n",
    "    if keyi%2!=0:\n",
    "        \n",
    "        diff = abs(tmp_mean-np.mean(dic[key]))\n",
    "        print(key, tmp_mean, np.mean(dic[key]))\n",
    "        \n",
    "        plt.vlines(keyi-0.5, np.mean(dic[key]), np.mean(dic[key])+diff, \n",
    "                   linestyles='-', colors='k', linewidth=3,\n",
    "                  )\n",
    "        \n",
    "        \n",
    "    tmp_mean = np.mean(dic[key])\n",
    "    plt.bar(key, tmp_mean, alpha=0.5, color=c_list[keyi])"
   ]
  },
  {
   "cell_type": "code",
   "execution_count": 123,
   "metadata": {},
   "outputs": [
    {
     "data": {
      "text/plain": [
       "dict_keys(['self_mask', 'other_mask', 'self_sup', 'other_sup', 'self_enh', 'other_enh'])"
      ]
     },
     "execution_count": 123,
     "metadata": {},
     "output_type": "execute_result"
    }
   ],
   "source": [
    "dic.keys()"
   ]
  },
  {
   "cell_type": "code",
   "execution_count": null,
   "metadata": {},
   "outputs": [],
   "source": []
  },
  {
   "cell_type": "markdown",
   "metadata": {},
   "source": [
    "# Before results"
   ]
  },
  {
   "cell_type": "code",
   "execution_count": 33,
   "metadata": {},
   "outputs": [
    {
     "name": "stdout",
     "output_type": "stream",
     "text": [
      "(1000, 100) (1000, 20198)\n",
      "0.24677335013995158 0.20243538019141624\n",
      "0.1904589239511496 0.15934156567803595\n",
      "0.2082733134853766 0.19300538878957013\n",
      "0.20680193800428587 0.17021743244514548\n",
      "0.20822471535115508 0.17374615527309195\n",
      "0.22352110670350864 0.18097707625662765\n",
      "0.16840334415023472 0.15260818982681446\n",
      "0.20463280520818233 0.183505679423554\n",
      "0.20161499930740662 0.16572306729666275\n",
      "0.22145315730176737 0.2024996864050678\n",
      "* Mean:  0.20801576536030186 0.17840596215859866\n"
     ]
    }
   ],
   "source": [
    "regression_process('sub21')"
   ]
  },
  {
   "cell_type": "code",
   "execution_count": 34,
   "metadata": {},
   "outputs": [
    {
     "name": "stdout",
     "output_type": "stream",
     "text": [
      "(1000, 100) (1000, 27347)\n",
      "0.19889642970291177 0.17658899321074392\n",
      "0.23064028271267464 0.18663994863283337\n",
      "0.2026919044457852 0.191080074006556\n",
      "0.22530791200022318 0.19994010290252953\n",
      "0.17450955886126768 0.1757699771301019\n",
      "0.20041546867664947 0.18866169505314984\n",
      "0.22975023025473948 0.20719153105035143\n",
      "0.2021562232632305 0.19613038578895034\n",
      "0.19524705335889553 0.17035312214062992\n",
      "0.20802686431357284 0.19968256546870275\n",
      "* Mean:  0.20676419275899502 0.1892038395384549\n"
     ]
    }
   ],
   "source": [
    "regression_process('sub22')"
   ]
  },
  {
   "cell_type": "code",
   "execution_count": 35,
   "metadata": {},
   "outputs": [
    {
     "name": "stdout",
     "output_type": "stream",
     "text": [
      "(1000, 100) (1000, 21395)\n",
      "0.25032566591032734 0.17250031128545043\n",
      "0.24074908744167267 0.1779538414794357\n",
      "0.2318232113787796 0.1692300314597998\n",
      "0.26928879533423555 0.1978144924222298\n",
      "0.24938165572063084 0.1850253424459345\n",
      "0.23160803044879733 0.17710322624048966\n",
      "0.26029916989614393 0.16794782571261768\n",
      "0.21345859652239663 0.156805057258255\n",
      "0.24523123347340386 0.18409494237077084\n",
      "0.243130506583305 0.1705231876016818\n",
      "* Mean:  0.24352959527096923 0.17589982582766653\n"
     ]
    }
   ],
   "source": [
    "regression_process('sub23')"
   ]
  },
  {
   "cell_type": "code",
   "execution_count": 36,
   "metadata": {},
   "outputs": [
    {
     "name": "stdout",
     "output_type": "stream",
     "text": [
      "(1000, 100) (1000, 23717)\n",
      "0.2020010553094862 0.18789764184404664\n",
      "0.19690240975898923 0.17978640430506454\n",
      "0.20487443759447344 0.17020147896400437\n",
      "0.20497596061029824 0.16985753919357402\n",
      "0.20448269587061993 0.18182201622728594\n",
      "0.1850276302164123 0.16252846980892044\n",
      "0.20192824136937426 0.1905257387903996\n",
      "0.21901068861373857 0.18661472987437266\n",
      "0.20288936589876438 0.17215733570368724\n",
      "0.22811834589325997 0.19330447175327972\n",
      "* Mean:  0.20502108311354167 0.1794695826464635\n"
     ]
    }
   ],
   "source": [
    "regression_process('sub24')"
   ]
  },
  {
   "cell_type": "code",
   "execution_count": null,
   "metadata": {},
   "outputs": [],
   "source": []
  },
  {
   "cell_type": "code",
   "execution_count": null,
   "metadata": {},
   "outputs": [],
   "source": []
  }
 ],
 "metadata": {
  "kernelspec": {
   "display_name": "Python 3",
   "language": "python",
   "name": "python3"
  },
  "language_info": {
   "codemirror_mode": {
    "name": "ipython",
    "version": 3
   },
   "file_extension": ".py",
   "mimetype": "text/x-python",
   "name": "python",
   "nbconvert_exporter": "python",
   "pygments_lexer": "ipython3",
   "version": "3.7.4"
  },
  "toc": {
   "base_numbering": 1,
   "nav_menu": {},
   "number_sections": true,
   "sideBar": true,
   "skip_h1_title": false,
   "title_cell": "Table of Contents",
   "title_sidebar": "Contents",
   "toc_cell": false,
   "toc_position": {},
   "toc_section_display": true,
   "toc_window_display": false
  }
 },
 "nbformat": 4,
 "nbformat_minor": 4
}
