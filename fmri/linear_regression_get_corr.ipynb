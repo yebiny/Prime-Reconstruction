{
 "cells": [
  {
   "cell_type": "markdown",
   "metadata": {},
   "source": [
    "# get data"
   ]
  },
  {
   "cell_type": "code",
   "execution_count": 1,
   "metadata": {},
   "outputs": [],
   "source": [
    "import sys\n",
    "sys.path.append('scripts')\n",
    "from data_generator import *"
   ]
  },
  {
   "cell_type": "code",
   "execution_count": 17,
   "metadata": {},
   "outputs": [],
   "source": [
    "def data_process(SUBJ, \n",
    "                 res='/Volumes/BPlus/primeRec/results/',\n",
    "                 data=data='/Volumes/BPlus/primeRec/data/'):\n",
    "     \n",
    "    dg = DataGenerator(SUBJ, res, data)\n",
    "    info_list = dg.get_info_list()\n",
    "    lat_arr = dg.get_latent(info_list)\n",
    "    voxel_arr = dg.get_voxel(info_list)\n",
    "    voxel_masked=dg.get_masked_voxel(voxel_arr)\n",
    "    print(lat_arr.shape, voxel_arr.shape, voxel_masked.shape)\n",
    "\n",
    "    save_path=res+SUBJ+'/regression'\n",
    "    np.save('%s/lat_arr'%save_path, lat_arr)\n",
    "    np.save('%s/voxel_arr'%save_path, voxel_arr)\n",
    "    np.save('%s/voxel_masked'%save_path, voxel_masked)"
   ]
  },
  {
   "cell_type": "code",
   "execution_count": 38,
   "metadata": {},
   "outputs": [
    {
     "name": "stdout",
     "output_type": "stream",
     "text": [
      "* number of infos: 1000\n",
      "* smaple info:\n",
      "[[1, 1], '/Volumes/BPlus/primeRec/results//sub02/trial_wise/phase1_trialWiseGLM_train_run1.feat/stats/tstat1_mask1.nii.gz', [1, 583]]\n",
      "(1000, 100) (1000, 91, 109, 91) (1000, 17540)\n"
     ]
    }
   ],
   "source": [
    "data_process('sub02')"
   ]
  },
  {
   "cell_type": "code",
   "execution_count": 39,
   "metadata": {},
   "outputs": [
    {
     "name": "stdout",
     "output_type": "stream",
     "text": [
      "* number of infos: 1000\n",
      "* smaple info:\n",
      "[[1, 1], '/Volumes/BPlus/primeRec/results//sub19/trial_wise/phase1_trialWiseGLM_train_run1.feat/stats/tstat1_mask1.nii.gz', [2, 219]]\n",
      "(1000, 100) (1000, 91, 109, 91) (1000, 24452)\n"
     ]
    }
   ],
   "source": [
    "data_process('sub19')"
   ]
  },
  {
   "cell_type": "code",
   "execution_count": 18,
   "metadata": {},
   "outputs": [
    {
     "name": "stdout",
     "output_type": "stream",
     "text": [
      "* number of infos: 1000\n",
      "* smaple info:\n",
      "[[1, 1], '/Volumes/BPlus/primeRec/results//sub21/trial_wise/phase1_trialWiseGLM_train_run1.feat/stats/tstat1_mask1.nii.gz', [1, 23]]\n",
      "(1000, 100) (1000, 91, 109, 91) (1000, 20198)\n"
     ]
    }
   ],
   "source": [
    "data_process('sub21')"
   ]
  },
  {
   "cell_type": "code",
   "execution_count": 19,
   "metadata": {},
   "outputs": [
    {
     "name": "stdout",
     "output_type": "stream",
     "text": [
      "* number of infos: 1000\n",
      "* smaple info:\n",
      "[[1, 1], '/Volumes/BPlus/primeRec/results//sub22/trial_wise/phase1_trialWiseGLM_train_run1.feat/stats/tstat1_mask1.nii.gz', [1, 453]]\n",
      "(1000, 100) (1000, 91, 109, 91) (1000, 27347)\n"
     ]
    }
   ],
   "source": [
    "data_process('sub22')"
   ]
  },
  {
   "cell_type": "code",
   "execution_count": 20,
   "metadata": {},
   "outputs": [
    {
     "name": "stdout",
     "output_type": "stream",
     "text": [
      "* number of infos: 1000\n",
      "* smaple info:\n",
      "[[1, 1], '/Volumes/BPlus/primeRec/results//sub23/trial_wise/phase1_trialWiseGLM_train_run1.feat/stats/tstat1_mask1.nii.gz', [1, 509]]\n",
      "(1000, 100) (1000, 91, 109, 91) (1000, 21395)\n"
     ]
    }
   ],
   "source": [
    "data_process('sub23')"
   ]
  },
  {
   "cell_type": "code",
   "execution_count": 21,
   "metadata": {},
   "outputs": [
    {
     "name": "stdout",
     "output_type": "stream",
     "text": [
      "* number of infos: 1000\n",
      "* smaple info:\n",
      "[[1, 2], '/Volumes/BPlus/primeRec/results//sub24/trial_wise/phase1_trialWiseGLM_train_run1.feat/stats/tstat2_mask1.nii.gz', [1, 342]]\n",
      "(1000, 100) (1000, 91, 109, 91) (1000, 23717)\n"
     ]
    }
   ],
   "source": [
    "data_process('sub24')"
   ]
  },
  {
   "cell_type": "markdown",
   "metadata": {},
   "source": [
    "# Start regression and get Corr"
   ]
  },
  {
   "cell_type": "code",
   "execution_count": 8,
   "metadata": {},
   "outputs": [],
   "source": [
    "from regression_yb import *"
   ]
  },
  {
   "cell_type": "code",
   "execution_count": 32,
   "metadata": {},
   "outputs": [],
   "source": [
    "def regression_process(SUBJ, res='/Volumes/BPlus/primeRec/results/'):\n",
    "\n",
    "    load_path=res+SUBJ+'/regression'\n",
    "    lat_arr = np.load('%s/lat_arr.npy'%load_path)\n",
    "    voxel_masked = np.load('%s/voxel_masked.npy'%load_path)\n",
    "    print(lat_arr.shape, voxel_masked.shape)\n",
    "\n",
    "    corr, self, others = regression_get_corr(voxel_masked, lat_arr)\n",
    "    print('* Mean: ', np.mean(self), np.mean(others))"
   ]
  },
  {
   "cell_type": "code",
   "execution_count": 40,
   "metadata": {},
   "outputs": [
    {
     "name": "stdout",
     "output_type": "stream",
     "text": [
      "(1000, 100) (1000, 17540)\n",
      "0.1871607667985445 0.15205739380074326\n",
      "0.2056761857135844 0.15958325132077264\n",
      "0.2309484086064575 0.18081680360512906\n",
      "0.1800697743812806 0.15835770327686624\n",
      "0.15989728061125835 0.14561444094727666\n",
      "0.21344214069783515 0.1903536759692428\n",
      "0.21375614103837162 0.17920020654197297\n",
      "0.18341719044107038 0.14898396291288252\n",
      "0.19395665235252896 0.1652407484306911\n",
      "0.20381520437588616 0.15986098726365328\n",
      "* Mean:  0.19721397450168174 0.16400691740692305\n"
     ]
    }
   ],
   "source": [
    "regression_process('sub02')"
   ]
  },
  {
   "cell_type": "code",
   "execution_count": 41,
   "metadata": {},
   "outputs": [
    {
     "name": "stdout",
     "output_type": "stream",
     "text": [
      "(1000, 100) (1000, 24452)\n",
      "0.2451471354582144 0.18473068786732647\n",
      "0.22291207843188066 0.18295813496691143\n",
      "0.20391077584634387 0.1740821463219225\n",
      "0.20479170706474373 0.16440069125794074\n",
      "0.21654354693929728 0.18767342027460804\n",
      "0.21199406251401623 0.1822509165158312\n",
      "0.21497325506692935 0.1853725366278745\n",
      "0.17228619531987946 0.1615730647795519\n",
      "0.20934973799460885 0.19397601610477663\n",
      "0.2413833937474849 0.1870295891430919\n",
      "* Mean:  0.21432918883833985 0.1804047203859835\n"
     ]
    }
   ],
   "source": [
    "regression_process('sub19')"
   ]
  },
  {
   "cell_type": "code",
   "execution_count": 33,
   "metadata": {},
   "outputs": [
    {
     "name": "stdout",
     "output_type": "stream",
     "text": [
      "(1000, 100) (1000, 20198)\n",
      "0.24677335013995158 0.20243538019141624\n",
      "0.1904589239511496 0.15934156567803595\n",
      "0.2082733134853766 0.19300538878957013\n",
      "0.20680193800428587 0.17021743244514548\n",
      "0.20822471535115508 0.17374615527309195\n",
      "0.22352110670350864 0.18097707625662765\n",
      "0.16840334415023472 0.15260818982681446\n",
      "0.20463280520818233 0.183505679423554\n",
      "0.20161499930740662 0.16572306729666275\n",
      "0.22145315730176737 0.2024996864050678\n",
      "* Mean:  0.20801576536030186 0.17840596215859866\n"
     ]
    }
   ],
   "source": [
    "regression_process('sub21')"
   ]
  },
  {
   "cell_type": "code",
   "execution_count": 34,
   "metadata": {},
   "outputs": [
    {
     "name": "stdout",
     "output_type": "stream",
     "text": [
      "(1000, 100) (1000, 27347)\n",
      "0.19889642970291177 0.17658899321074392\n",
      "0.23064028271267464 0.18663994863283337\n",
      "0.2026919044457852 0.191080074006556\n",
      "0.22530791200022318 0.19994010290252953\n",
      "0.17450955886126768 0.1757699771301019\n",
      "0.20041546867664947 0.18866169505314984\n",
      "0.22975023025473948 0.20719153105035143\n",
      "0.2021562232632305 0.19613038578895034\n",
      "0.19524705335889553 0.17035312214062992\n",
      "0.20802686431357284 0.19968256546870275\n",
      "* Mean:  0.20676419275899502 0.1892038395384549\n"
     ]
    }
   ],
   "source": [
    "regression_process('sub22')"
   ]
  },
  {
   "cell_type": "code",
   "execution_count": 35,
   "metadata": {},
   "outputs": [
    {
     "name": "stdout",
     "output_type": "stream",
     "text": [
      "(1000, 100) (1000, 21395)\n",
      "0.25032566591032734 0.17250031128545043\n",
      "0.24074908744167267 0.1779538414794357\n",
      "0.2318232113787796 0.1692300314597998\n",
      "0.26928879533423555 0.1978144924222298\n",
      "0.24938165572063084 0.1850253424459345\n",
      "0.23160803044879733 0.17710322624048966\n",
      "0.26029916989614393 0.16794782571261768\n",
      "0.21345859652239663 0.156805057258255\n",
      "0.24523123347340386 0.18409494237077084\n",
      "0.243130506583305 0.1705231876016818\n",
      "* Mean:  0.24352959527096923 0.17589982582766653\n"
     ]
    }
   ],
   "source": [
    "regression_process('sub23')"
   ]
  },
  {
   "cell_type": "code",
   "execution_count": 36,
   "metadata": {},
   "outputs": [
    {
     "name": "stdout",
     "output_type": "stream",
     "text": [
      "(1000, 100) (1000, 23717)\n",
      "0.2020010553094862 0.18789764184404664\n",
      "0.19690240975898923 0.17978640430506454\n",
      "0.20487443759447344 0.17020147896400437\n",
      "0.20497596061029824 0.16985753919357402\n",
      "0.20448269587061993 0.18182201622728594\n",
      "0.1850276302164123 0.16252846980892044\n",
      "0.20192824136937426 0.1905257387903996\n",
      "0.21901068861373857 0.18661472987437266\n",
      "0.20288936589876438 0.17215733570368724\n",
      "0.22811834589325997 0.19330447175327972\n",
      "* Mean:  0.20502108311354167 0.1794695826464635\n"
     ]
    }
   ],
   "source": [
    "regression_process('sub24')"
   ]
  },
  {
   "cell_type": "code",
   "execution_count": null,
   "metadata": {},
   "outputs": [],
   "source": []
  },
  {
   "cell_type": "code",
   "execution_count": null,
   "metadata": {},
   "outputs": [],
   "source": []
  }
 ],
 "metadata": {
  "kernelspec": {
   "display_name": "Python 3",
   "language": "python",
   "name": "python3"
  },
  "language_info": {
   "codemirror_mode": {
    "name": "ipython",
    "version": 3
   },
   "file_extension": ".py",
   "mimetype": "text/x-python",
   "name": "python",
   "nbconvert_exporter": "python",
   "pygments_lexer": "ipython3",
   "version": "3.7.4"
  },
  "toc": {
   "base_numbering": 1,
   "nav_menu": {},
   "number_sections": true,
   "sideBar": true,
   "skip_h1_title": false,
   "title_cell": "Table of Contents",
   "title_sidebar": "Contents",
   "toc_cell": false,
   "toc_position": {},
   "toc_section_display": true,
   "toc_window_display": false
  }
 },
 "nbformat": 4,
 "nbformat_minor": 4
}
