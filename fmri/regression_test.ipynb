{
 "cells": [
  {
   "cell_type": "code",
   "execution_count": 42,
   "metadata": {},
   "outputs": [],
   "source": [
    "import numpy as np\n",
    "import scipy.io as sio\n",
    "import csv\n",
    "from nilearn import plotting\n",
    "import nibabel as nib\n",
    "import scipy"
   ]
  },
  {
   "cell_type": "code",
   "execution_count": 87,
   "metadata": {},
   "outputs": [],
   "source": [
    "def get_latent_arr(img_arr, f_lat, m_lat):\n",
    "\n",
    "    lat_list=[]\n",
    "    for condition, idx, gender in img_arr:\n",
    "        if condition!=1: continue\n",
    "            \n",
    "        if gender==1: \n",
    "            lat_map=f_lat \n",
    "        else: \n",
    "            lat_map=m_lat\n",
    "        lat = lat_map[:,1][idx-1][0]\n",
    "        lat_list.append(lat)\n",
    "\n",
    "    lat_arr = np.array(lat_list)\n",
    "    return lat_arr\n",
    "\n",
    "def get_stim_arr(behavior_list):\n",
    "    stim_list=[]\n",
    "    for d in behavior_list:\n",
    "        mat = scipy.io.loadmat(d)\n",
    "        condition=mat['designMat'][1]\n",
    "        imggender=mat['designMat'][2]\n",
    "        imgidxs=mat['designMat'][3]\n",
    "        \n",
    "        for idx in range(len(imgidxs)):\n",
    "            if condition[idx]==1 or condition[idx]==2:\n",
    "                stim_list.append([ int(condition[idx]),\n",
    "                                  int(imgidxs[idx]), \n",
    "                                  int(imggender[idx]),\n",
    "                                ])\n",
    "    stim_arr=np.array(stim_list)\n",
    "    return stim_arr\n",
    "\n",
    "def get_voxel_arr(phase_run_list, tstat_list, mask_name, stim_arr):\n",
    "    \n",
    "    mask = nib.load(mask_name)\n",
    "    mask = mask.get_fdata()\n",
    "    print('*mask info: ', mask_name, mask.shape, mask[mask==1].shape)\n",
    "    voxel_list=[]\n",
    "    for r in phase_run_list:\n",
    "        for t in tstat_list:\n",
    "            tstat=nib.load('%s/%s'%(r, t))\n",
    "            tstat=tstat.get_fdata()\n",
    "            tstat_masked = tstat[mask==1]\n",
    "            voxel_list.append(tstat_masked)\n",
    "            \n",
    "    voxel_arr = np.array(voxel_list)\n",
    "    voxel_arr = voxel_arr[stim_arr[:,0]==1]\n",
    "    return voxel_arr    "
   ]
  },
  {
   "cell_type": "code",
   "execution_count": 145,
   "metadata": {},
   "outputs": [],
   "source": [
    "SUBJ='sub22'\n",
    "path_mask = './results/%s/mask/mask1.nii'%SUBJ\n",
    "path_run = './results/%s/trial_wise/phase1_trialWiseGLM_train_run00.feat'%SUBJ\n",
    "path_tstat = 'stats/tstat00_mask1.nii.gz'\n",
    "path_behavior = './data/%s/behavior/data_phase1_run00.mat'%SUBJ\n",
    "\n",
    "f_lat = np.load('scripts/f_latent.npy', allow_pickle=True)\n",
    "m_lat = np.load('scripts/m_latent.npy', allow_pickle=True)\n",
    "\n",
    "run_list=[phase_run.replace('00', str(i)) for i in range(1, 11)]\n",
    "tstat_list=[tstat.replace('00', str(i)) for i in range(1, 111)]\n",
    "behavior_list=[behavior.replace('00', str(i)) for i in range(1, 11)]"
   ]
  },
  {
   "cell_type": "code",
   "execution_count": 146,
   "metadata": {},
   "outputs": [
    {
     "data": {
      "text/plain": [
       "(1100, 3)"
      ]
     },
     "execution_count": 146,
     "metadata": {},
     "output_type": "execute_result"
    }
   ],
   "source": [
    "stim_arr = get_stim_arr(behavior_list)\n",
    "stim_arr.shape"
   ]
  },
  {
   "cell_type": "code",
   "execution_count": 147,
   "metadata": {},
   "outputs": [
    {
     "name": "stdout",
     "output_type": "stream",
     "text": [
      "*mask info:  ./results/sub22/mask/mask1.nii (91, 109, 91) (27347,)\n"
     ]
    },
    {
     "data": {
      "text/plain": [
       "(1000, 27347)"
      ]
     },
     "execution_count": 147,
     "metadata": {},
     "output_type": "execute_result"
    }
   ],
   "source": [
    "voxel_arr = get_voxel_arr(run_list, tstat_list, path_mask, stim_arr)\n",
    "voxel_arr.shape"
   ]
  },
  {
   "cell_type": "code",
   "execution_count": 148,
   "metadata": {},
   "outputs": [
    {
     "data": {
      "text/plain": [
       "(1000, 100)"
      ]
     },
     "execution_count": 148,
     "metadata": {},
     "output_type": "execute_result"
    }
   ],
   "source": [
    "latent_arr= get_latent_arr(stim_arr, f_lat, m_lat)\n",
    "latent_arr.shape"
   ]
  },
  {
   "cell_type": "code",
   "execution_count": 144,
   "metadata": {},
   "outputs": [
    {
     "name": "stdout",
     "output_type": "stream",
     "text": [
      "(900, 17540) (900, 100)\n",
      "(100, 17540) (100, 100)\n",
      "0.1871607667985445 0.15205739380074326\n"
     ]
    },
    {
     "data": {
      "text/plain": [
       "(0.1871607667985445, 0.15205739380074326)"
      ]
     },
     "execution_count": 144,
     "metadata": {},
     "output_type": "execute_result"
    }
   ],
   "source": [
    "self, others = regression_get_corr(voxel_arr, latent_arr)\n",
    "np.mean(self), np.mean(others)"
   ]
  },
  {
   "cell_type": "code",
   "execution_count": 149,
   "metadata": {},
   "outputs": [
    {
     "name": "stdout",
     "output_type": "stream",
     "text": [
      "(900, 27347) (900, 100)\n",
      "(100, 27347) (100, 100)\n",
      "0.19349444646339553 0.14960529096599537\n"
     ]
    },
    {
     "data": {
      "text/plain": [
       "(0.19349444646339553, 0.14960529096599537)"
      ]
     },
     "execution_count": 149,
     "metadata": {},
     "output_type": "execute_result"
    }
   ],
   "source": [
    "self, others = regression_get_corr(voxel_arr, latent_arr)\n",
    "np.mean(self), np.mean(others)"
   ]
  },
  {
   "cell_type": "code",
   "execution_count": 118,
   "metadata": {},
   "outputs": [],
   "source": [
    "import sklearn\n",
    "\n",
    "def get_corr(y_test, y_pred):\n",
    "\n",
    "    corr=[]\n",
    "    self_sum, other_sum = 0, 0\n",
    "    self_n, other_n = 0, 0\n",
    "    for ti, y_t in enumerate(y_test):\n",
    "        corr_row=[]\n",
    "        for pi, y_p in enumerate(y_pred):\n",
    "            co = np.corrcoef(y_t, y_p)[0][1]\n",
    "            corr_row.append(co)\n",
    "            if ti==pi: \n",
    "                #print(ti, pi, co)\n",
    "                self_sum +=co\n",
    "                self_n+=1\n",
    "            else:\n",
    "                other_sum +=co\n",
    "                other_n+=1\n",
    "        corr.append(corr_row)  \n",
    "    corr = np.array(corr)\n",
    "    self_corr = self_sum/self_n\n",
    "    other_corr = other_sum/other_n\n",
    "    \n",
    "    return self_corr, other_corr\n",
    "\n",
    "\n",
    "def regression_get_corr(act_arr, lat_arr):\n",
    "\n",
    "    selfs=[]\n",
    "    others=[]\n",
    "\n",
    "    for n_regression in range(10):\n",
    "        mask_train = []\n",
    "        mask_test = []\n",
    "        for i in range(10):\n",
    "            if i==n_regression: \n",
    "                w_train = [False for i in range(100)]\n",
    "                w_test = [True for i in range(100)]\n",
    "            else: \n",
    "                w_train = [True for i in range(100)]\n",
    "                w_test = [False for i in range(100)]\n",
    "            mask_train.extend(w_train)\n",
    "            mask_test.extend(w_test)\n",
    "\n",
    "        x_train, y_train = act_arr[mask_train], lat_arr[mask_train]\n",
    "        print(x_train.shape, y_train.shape)\n",
    "        x_test, y_test = act_arr[mask_test], lat_arr[mask_test]\n",
    "        print(x_test.shape, y_test.shape)\n",
    "\n",
    "        line_fitter = sklearn.linear_model.LinearRegression()\n",
    "        line_fitter.fit(x_train, y_train)\n",
    "        y_pred = line_fitter.predict(x_test)\n",
    "\n",
    "\n",
    "        self_corr, other_corr = get_corr(y_test, y_pred)\n",
    "\n",
    "        print(self_corr, other_corr)\n",
    "        selfs.append(self_corr)\n",
    "        others.append(other_corr)\n",
    "        \n",
    "        return selfs, others"
   ]
  },
  {
   "cell_type": "code",
   "execution_count": null,
   "metadata": {},
   "outputs": [],
   "source": []
  }
 ],
 "metadata": {
  "kernelspec": {
   "display_name": "Python 3",
   "language": "python",
   "name": "python3"
  },
  "language_info": {
   "codemirror_mode": {
    "name": "ipython",
    "version": 3
   },
   "file_extension": ".py",
   "mimetype": "text/x-python",
   "name": "python",
   "nbconvert_exporter": "python",
   "pygments_lexer": "ipython3",
   "version": "3.7.4"
  },
  "toc": {
   "base_numbering": 1,
   "nav_menu": {},
   "number_sections": true,
   "sideBar": true,
   "skip_h1_title": false,
   "title_cell": "Table of Contents",
   "title_sidebar": "Contents",
   "toc_cell": false,
   "toc_position": {},
   "toc_section_display": true,
   "toc_window_display": false
  }
 },
 "nbformat": 4,
 "nbformat_minor": 4
}
